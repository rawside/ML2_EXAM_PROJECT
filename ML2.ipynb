{
  "nbformat": 4,
  "nbformat_minor": 0,
  "metadata": {
    "colab": {
      "provenance": [],
      "toc_visible": true,
      "authorship_tag": "ABX9TyM89zvoLAJb0kmQn1Zl1K84",
      "include_colab_link": true
    },
    "kernelspec": {
      "name": "python3",
      "display_name": "Python 3"
    },
    "language_info": {
      "name": "python"
    }
  },
  "cells": [
    {
      "cell_type": "markdown",
      "metadata": {
        "id": "view-in-github",
        "colab_type": "text"
      },
      "source": [
        "<a href=\"https://colab.research.google.com/github/rawside/ML2_EXAM_PROJECT/blob/main/ML2.ipynb\" target=\"_parent\"><img src=\"https://colab.research.google.com/assets/colab-badge.svg\" alt=\"Open In Colab\"/></a>"
      ]
    },
    {
      "cell_type": "markdown",
      "source": [
        "# Introduction\n",
        "\n",
        "Welcome to my Python Notebook where I am exploring the fascinating world of cryptocurrency sentiment analysis, focusing particularly on Twitter.\n",
        "\n",
        "Cryptocurrencies, in their volatile and dynamic nature, often exhibit price fluctuations influenced by various factors. One key influencer I am exploring is Twitter, a social media platform where real-time discussions about cryptoassets are abundant.\n",
        "\n",
        "In this project, I will be pulling tweets about different cryptocurrencies using the Twitter API and applying sentiment analysis to these tweets. The objective here is straightforward - to analyze the sentiment embedded in tweets related to specific cryptocurrencies.\n",
        "\n",
        "Join me as we dive into this intriguing mix of Python, cryptocurrencies, Twitter, and sentiment analysis. Let's see what the tweets say!"
      ],
      "metadata": {
        "id": "tAl_DFFnFvXd"
      }
    },
    {
      "cell_type": "markdown",
      "source": [
        "# Import the credentials\n",
        "\n",
        "A fellow student has to present this project, therefore I implement a function to upload the credentials he or she can request by e-mail"
      ],
      "metadata": {
        "id": "a8wLA7fAHMv8"
      }
    },
    {
      "cell_type": "code",
      "source": [
        "# Import the libraries.\n",
        "from google.colab import files\n",
        "import io\n",
        "import json\n",
        "\n",
        "# Use files.upload to produce the \"Choose Files\" button below, then select your file.\n",
        "uploaded = files.upload()\n",
        "\n",
        "# Use io.BytesIO to decode the file, then json.load to open it.\n",
        "file = io.BytesIO(uploaded['credentials.json'])\n",
        "credentials = json.load(file)\n",
        "\n",
        "# Do something with the credentials.\n",
        "print(credentials)\n",
        "\n",
        "# Use Python list comprehension to save each credential to a separate variable.\n",
        "TWITTER_CONSUMER_KEY = credentials['TWITTER_CONSUMER_KEY']\n",
        "TWITTER_CONSUMER_SECRET = credentials['TWITTER_CONSUMER_SECRET']\n",
        "TWITTER_ACCESS_TOKEN = credentials['TWITTER_ACCESS_TOKEN']\n",
        "TWITTER_ACCESS_TOKEN_SECRET = credentials['TWITTER_ACCESS_TOKEN_SECRET']\n",
        "BEARER_TOKEN = credentials['BEARER_TOKEN']\n",
        "GPT_SECRET_KEY = credentials['GPT_SECRET_KEY']\n",
        "\n",
        "\n",
        "print(\"TWITTER_CONSUMER_KEY:\", TWITTER_CONSUMER_KEY)\n",
        "print(\"TWITTER_CONSUMER_SECRET:\", TWITTER_CONSUMER_SECRET)\n",
        "print(\"TWITTER_ACCESS_TOKEN:\", TWITTER_ACCESS_TOKEN)\n",
        "print(\"TWITTER_ACCESS_TOKEN_SECRET:\", TWITTER_ACCESS_TOKEN_SECRET)\n",
        "print(\"BEARER_TOKEN:\", BEARER_TOKEN)\n",
        "print(\"GPT_SECRET_KEY:\", GPT_SECRET_KEY)"
      ],
      "metadata": {
        "id": "Hv5-l7a_IX5-"
      },
      "execution_count": null,
      "outputs": []
    }
  ]
}